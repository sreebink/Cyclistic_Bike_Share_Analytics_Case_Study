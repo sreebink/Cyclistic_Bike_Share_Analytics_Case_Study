{
 "cells": [
  {
   "cell_type": "markdown",
   "id": "ec5553ad",
   "metadata": {},
   "source": [
    "In this Predictive Analytics Project, we will try to answer the question \"how casual riders and annual members use Cyclistic bikes differently?\" and try to predict if a rider is casual or member using features such as ride length and duration.\n",
    "\n",
    "If the model is able to predict the category with a decent accuracy, we can confirm that member and casual riders use the Cyclistic bikes differently and the model is able to differentiate. Hence, our end goal is not the prediction the category and results, but to test the hypothesis that member and casual riders use the bike service differently.\n",
    "\n",
    "Let's go."
   ]
  },
  {
   "cell_type": "code",
   "execution_count": 1,
   "id": "85346ceb",
   "metadata": {},
   "outputs": [],
   "source": [
    "# import libraries\n",
    "import numpy as np\n",
    "import pandas as pd\n",
    "import matplotlib.pyplot as plt"
   ]
  },
  {
   "cell_type": "code",
   "execution_count": 2,
   "id": "a34d2ab4",
   "metadata": {},
   "outputs": [],
   "source": [
    "# import dataset\n",
    "dataset = pd.read_csv(\"Divvy_Trips_2020_Q1.csv\")"
   ]
  },
  {
   "cell_type": "markdown",
   "id": "81a1103c",
   "metadata": {},
   "source": [
    "### Dataset information"
   ]
  },
  {
   "cell_type": "code",
   "execution_count": 3,
   "id": "7105d06c",
   "metadata": {},
   "outputs": [
    {
     "name": "stdout",
     "output_type": "stream",
     "text": [
      "<class 'pandas.core.frame.DataFrame'>\n",
      "RangeIndex: 426887 entries, 0 to 426886\n",
      "Data columns (total 13 columns):\n",
      " #   Column              Non-Null Count   Dtype  \n",
      "---  ------              --------------   -----  \n",
      " 0   ride_id             426887 non-null  object \n",
      " 1   rideable_type       426887 non-null  object \n",
      " 2   started_at          426887 non-null  object \n",
      " 3   ended_at            426887 non-null  object \n",
      " 4   start_station_name  426887 non-null  object \n",
      " 5   start_station_id    426887 non-null  int64  \n",
      " 6   end_station_name    426886 non-null  object \n",
      " 7   end_station_id      426886 non-null  float64\n",
      " 8   start_lat           426887 non-null  float64\n",
      " 9   start_lng           426887 non-null  float64\n",
      " 10  end_lat             426886 non-null  float64\n",
      " 11  end_lng             426886 non-null  float64\n",
      " 12  member_casual       426887 non-null  object \n",
      "dtypes: float64(5), int64(1), object(7)\n",
      "memory usage: 42.3+ MB\n",
      "None\n"
     ]
    },
    {
     "data": {
      "text/html": [
       "<div>\n",
       "<style scoped>\n",
       "    .dataframe tbody tr th:only-of-type {\n",
       "        vertical-align: middle;\n",
       "    }\n",
       "\n",
       "    .dataframe tbody tr th {\n",
       "        vertical-align: top;\n",
       "    }\n",
       "\n",
       "    .dataframe thead th {\n",
       "        text-align: right;\n",
       "    }\n",
       "</style>\n",
       "<table border=\"1\" class=\"dataframe\">\n",
       "  <thead>\n",
       "    <tr style=\"text-align: right;\">\n",
       "      <th></th>\n",
       "      <th>ride_id</th>\n",
       "      <th>rideable_type</th>\n",
       "      <th>started_at</th>\n",
       "      <th>ended_at</th>\n",
       "      <th>start_station_name</th>\n",
       "      <th>start_station_id</th>\n",
       "      <th>end_station_name</th>\n",
       "      <th>end_station_id</th>\n",
       "      <th>start_lat</th>\n",
       "      <th>start_lng</th>\n",
       "      <th>end_lat</th>\n",
       "      <th>end_lng</th>\n",
       "      <th>member_casual</th>\n",
       "    </tr>\n",
       "  </thead>\n",
       "  <tbody>\n",
       "    <tr>\n",
       "      <th>0</th>\n",
       "      <td>EACB19130B0CDA4A</td>\n",
       "      <td>docked_bike</td>\n",
       "      <td>2020-01-21 20:06:59</td>\n",
       "      <td>2020-01-21 20:14:30</td>\n",
       "      <td>Western Ave &amp; Leland Ave</td>\n",
       "      <td>239</td>\n",
       "      <td>Clark St &amp; Leland Ave</td>\n",
       "      <td>326.0</td>\n",
       "      <td>41.9665</td>\n",
       "      <td>-87.6884</td>\n",
       "      <td>41.9671</td>\n",
       "      <td>-87.6674</td>\n",
       "      <td>member</td>\n",
       "    </tr>\n",
       "    <tr>\n",
       "      <th>1</th>\n",
       "      <td>8FED874C809DC021</td>\n",
       "      <td>docked_bike</td>\n",
       "      <td>2020-01-30 14:22:39</td>\n",
       "      <td>2020-01-30 14:26:22</td>\n",
       "      <td>Clark St &amp; Montrose Ave</td>\n",
       "      <td>234</td>\n",
       "      <td>Southport Ave &amp; Irving Park Rd</td>\n",
       "      <td>318.0</td>\n",
       "      <td>41.9616</td>\n",
       "      <td>-87.6660</td>\n",
       "      <td>41.9542</td>\n",
       "      <td>-87.6644</td>\n",
       "      <td>member</td>\n",
       "    </tr>\n",
       "    <tr>\n",
       "      <th>2</th>\n",
       "      <td>789F3C21E472CA96</td>\n",
       "      <td>docked_bike</td>\n",
       "      <td>2020-01-09 19:29:26</td>\n",
       "      <td>2020-01-09 19:32:17</td>\n",
       "      <td>Broadway &amp; Belmont Ave</td>\n",
       "      <td>296</td>\n",
       "      <td>Wilton Ave &amp; Belmont Ave</td>\n",
       "      <td>117.0</td>\n",
       "      <td>41.9401</td>\n",
       "      <td>-87.6455</td>\n",
       "      <td>41.9402</td>\n",
       "      <td>-87.6530</td>\n",
       "      <td>member</td>\n",
       "    </tr>\n",
       "    <tr>\n",
       "      <th>3</th>\n",
       "      <td>C9A388DAC6ABF313</td>\n",
       "      <td>docked_bike</td>\n",
       "      <td>2020-01-06 16:17:07</td>\n",
       "      <td>2020-01-06 16:25:56</td>\n",
       "      <td>Clark St &amp; Randolph St</td>\n",
       "      <td>51</td>\n",
       "      <td>Fairbanks Ct &amp; Grand Ave</td>\n",
       "      <td>24.0</td>\n",
       "      <td>41.8846</td>\n",
       "      <td>-87.6319</td>\n",
       "      <td>41.8918</td>\n",
       "      <td>-87.6206</td>\n",
       "      <td>member</td>\n",
       "    </tr>\n",
       "    <tr>\n",
       "      <th>4</th>\n",
       "      <td>943BC3CBECCFD662</td>\n",
       "      <td>docked_bike</td>\n",
       "      <td>2020-01-30 08:37:16</td>\n",
       "      <td>2020-01-30 08:42:48</td>\n",
       "      <td>Clinton St &amp; Lake St</td>\n",
       "      <td>66</td>\n",
       "      <td>Wells St &amp; Hubbard St</td>\n",
       "      <td>212.0</td>\n",
       "      <td>41.8856</td>\n",
       "      <td>-87.6418</td>\n",
       "      <td>41.8899</td>\n",
       "      <td>-87.6343</td>\n",
       "      <td>member</td>\n",
       "    </tr>\n",
       "  </tbody>\n",
       "</table>\n",
       "</div>"
      ],
      "text/plain": [
       "            ride_id rideable_type           started_at             ended_at  \\\n",
       "0  EACB19130B0CDA4A   docked_bike  2020-01-21 20:06:59  2020-01-21 20:14:30   \n",
       "1  8FED874C809DC021   docked_bike  2020-01-30 14:22:39  2020-01-30 14:26:22   \n",
       "2  789F3C21E472CA96   docked_bike  2020-01-09 19:29:26  2020-01-09 19:32:17   \n",
       "3  C9A388DAC6ABF313   docked_bike  2020-01-06 16:17:07  2020-01-06 16:25:56   \n",
       "4  943BC3CBECCFD662   docked_bike  2020-01-30 08:37:16  2020-01-30 08:42:48   \n",
       "\n",
       "         start_station_name  start_station_id                end_station_name  \\\n",
       "0  Western Ave & Leland Ave               239           Clark St & Leland Ave   \n",
       "1   Clark St & Montrose Ave               234  Southport Ave & Irving Park Rd   \n",
       "2    Broadway & Belmont Ave               296        Wilton Ave & Belmont Ave   \n",
       "3    Clark St & Randolph St                51        Fairbanks Ct & Grand Ave   \n",
       "4      Clinton St & Lake St                66           Wells St & Hubbard St   \n",
       "\n",
       "   end_station_id  start_lat  start_lng  end_lat  end_lng member_casual  \n",
       "0           326.0    41.9665   -87.6884  41.9671 -87.6674        member  \n",
       "1           318.0    41.9616   -87.6660  41.9542 -87.6644        member  \n",
       "2           117.0    41.9401   -87.6455  41.9402 -87.6530        member  \n",
       "3            24.0    41.8846   -87.6319  41.8918 -87.6206        member  \n",
       "4           212.0    41.8856   -87.6418  41.8899 -87.6343        member  "
      ]
     },
     "execution_count": 3,
     "metadata": {},
     "output_type": "execute_result"
    }
   ],
   "source": [
    "print(dataset.info())\n",
    "dataset.head()"
   ]
  },
  {
   "cell_type": "code",
   "execution_count": 4,
   "id": "cfbfcc77",
   "metadata": {},
   "outputs": [
    {
     "data": {
      "text/html": [
       "<div>\n",
       "<style scoped>\n",
       "    .dataframe tbody tr th:only-of-type {\n",
       "        vertical-align: middle;\n",
       "    }\n",
       "\n",
       "    .dataframe tbody tr th {\n",
       "        vertical-align: top;\n",
       "    }\n",
       "\n",
       "    .dataframe thead th {\n",
       "        text-align: right;\n",
       "    }\n",
       "</style>\n",
       "<table border=\"1\" class=\"dataframe\">\n",
       "  <thead>\n",
       "    <tr style=\"text-align: right;\">\n",
       "      <th></th>\n",
       "      <th>start_station_id</th>\n",
       "      <th>end_station_id</th>\n",
       "      <th>start_lat</th>\n",
       "      <th>start_lng</th>\n",
       "      <th>end_lat</th>\n",
       "      <th>end_lng</th>\n",
       "    </tr>\n",
       "  </thead>\n",
       "  <tbody>\n",
       "    <tr>\n",
       "      <th>count</th>\n",
       "      <td>426887.000000</td>\n",
       "      <td>426886.000000</td>\n",
       "      <td>426887.000000</td>\n",
       "      <td>426887.000000</td>\n",
       "      <td>426886.000000</td>\n",
       "      <td>426886.000000</td>\n",
       "    </tr>\n",
       "    <tr>\n",
       "      <th>mean</th>\n",
       "      <td>209.797799</td>\n",
       "      <td>209.337947</td>\n",
       "      <td>41.897846</td>\n",
       "      <td>-87.644157</td>\n",
       "      <td>41.897998</td>\n",
       "      <td>-87.644254</td>\n",
       "    </tr>\n",
       "    <tr>\n",
       "      <th>std</th>\n",
       "      <td>163.222889</td>\n",
       "      <td>163.198129</td>\n",
       "      <td>0.038080</td>\n",
       "      <td>0.022666</td>\n",
       "      <td>0.038315</td>\n",
       "      <td>0.022662</td>\n",
       "    </tr>\n",
       "    <tr>\n",
       "      <th>min</th>\n",
       "      <td>2.000000</td>\n",
       "      <td>2.000000</td>\n",
       "      <td>41.736600</td>\n",
       "      <td>-87.774700</td>\n",
       "      <td>41.736600</td>\n",
       "      <td>-87.774700</td>\n",
       "    </tr>\n",
       "    <tr>\n",
       "      <th>25%</th>\n",
       "      <td>77.000000</td>\n",
       "      <td>77.000000</td>\n",
       "      <td>41.880300</td>\n",
       "      <td>-87.655000</td>\n",
       "      <td>41.880300</td>\n",
       "      <td>-87.655500</td>\n",
       "    </tr>\n",
       "    <tr>\n",
       "      <th>50%</th>\n",
       "      <td>176.000000</td>\n",
       "      <td>175.000000</td>\n",
       "      <td>41.890600</td>\n",
       "      <td>-87.639900</td>\n",
       "      <td>41.890600</td>\n",
       "      <td>-87.640800</td>\n",
       "    </tr>\n",
       "    <tr>\n",
       "      <th>75%</th>\n",
       "      <td>298.000000</td>\n",
       "      <td>297.000000</td>\n",
       "      <td>41.915700</td>\n",
       "      <td>-87.629500</td>\n",
       "      <td>41.916000</td>\n",
       "      <td>-87.629500</td>\n",
       "    </tr>\n",
       "    <tr>\n",
       "      <th>max</th>\n",
       "      <td>675.000000</td>\n",
       "      <td>675.000000</td>\n",
       "      <td>42.064900</td>\n",
       "      <td>-87.549400</td>\n",
       "      <td>42.064900</td>\n",
       "      <td>-87.549400</td>\n",
       "    </tr>\n",
       "  </tbody>\n",
       "</table>\n",
       "</div>"
      ],
      "text/plain": [
       "       start_station_id  end_station_id      start_lat      start_lng  \\\n",
       "count     426887.000000   426886.000000  426887.000000  426887.000000   \n",
       "mean         209.797799      209.337947      41.897846     -87.644157   \n",
       "std          163.222889      163.198129       0.038080       0.022666   \n",
       "min            2.000000        2.000000      41.736600     -87.774700   \n",
       "25%           77.000000       77.000000      41.880300     -87.655000   \n",
       "50%          176.000000      175.000000      41.890600     -87.639900   \n",
       "75%          298.000000      297.000000      41.915700     -87.629500   \n",
       "max          675.000000      675.000000      42.064900     -87.549400   \n",
       "\n",
       "             end_lat        end_lng  \n",
       "count  426886.000000  426886.000000  \n",
       "mean       41.897998     -87.644254  \n",
       "std         0.038315       0.022662  \n",
       "min        41.736600     -87.774700  \n",
       "25%        41.880300     -87.655500  \n",
       "50%        41.890600     -87.640800  \n",
       "75%        41.916000     -87.629500  \n",
       "max        42.064900     -87.549400  "
      ]
     },
     "execution_count": 4,
     "metadata": {},
     "output_type": "execute_result"
    }
   ],
   "source": [
    "dataset.describe()"
   ]
  },
  {
   "cell_type": "markdown",
   "id": "b705b46f",
   "metadata": {},
   "source": [
    "# Feature Engineering and Preprocessing"
   ]
  },
  {
   "cell_type": "markdown",
   "id": "5bad964a",
   "metadata": {},
   "source": [
    "### Null check"
   ]
  },
  {
   "cell_type": "code",
   "execution_count": 5,
   "id": "011ccfef",
   "metadata": {},
   "outputs": [
    {
     "data": {
      "text/plain": [
       "ride_id               False\n",
       "rideable_type         False\n",
       "started_at            False\n",
       "ended_at              False\n",
       "start_station_name    False\n",
       "start_station_id      False\n",
       "end_station_name       True\n",
       "end_station_id         True\n",
       "start_lat             False\n",
       "start_lng             False\n",
       "end_lat                True\n",
       "end_lng                True\n",
       "member_casual         False\n",
       "dtype: bool"
      ]
     },
     "execution_count": 5,
     "metadata": {},
     "output_type": "execute_result"
    }
   ],
   "source": [
    "# checking for null values\n",
    "dataset.isnull().any(axis = 0)"
   ]
  },
  {
   "cell_type": "code",
   "execution_count": 6,
   "id": "32f07ea1",
   "metadata": {},
   "outputs": [
    {
     "name": "stdout",
     "output_type": "stream",
     "text": [
      "null values in the column end_station_name -  1\n",
      "null values in the column end_station_id -  1\n",
      "number of null values in the column end_lat -  1\n",
      "number of null values in the column end_lng -  1\n"
     ]
    },
    {
     "data": {
      "text/html": [
       "<div>\n",
       "<style scoped>\n",
       "    .dataframe tbody tr th:only-of-type {\n",
       "        vertical-align: middle;\n",
       "    }\n",
       "\n",
       "    .dataframe tbody tr th {\n",
       "        vertical-align: top;\n",
       "    }\n",
       "\n",
       "    .dataframe thead th {\n",
       "        text-align: right;\n",
       "    }\n",
       "</style>\n",
       "<table border=\"1\" class=\"dataframe\">\n",
       "  <thead>\n",
       "    <tr style=\"text-align: right;\">\n",
       "      <th></th>\n",
       "      <th>ride_id</th>\n",
       "      <th>rideable_type</th>\n",
       "      <th>started_at</th>\n",
       "      <th>ended_at</th>\n",
       "      <th>start_station_name</th>\n",
       "      <th>start_station_id</th>\n",
       "      <th>end_station_name</th>\n",
       "      <th>end_station_id</th>\n",
       "      <th>start_lat</th>\n",
       "      <th>start_lng</th>\n",
       "      <th>end_lat</th>\n",
       "      <th>end_lng</th>\n",
       "      <th>member_casual</th>\n",
       "    </tr>\n",
       "  </thead>\n",
       "  <tbody>\n",
       "    <tr>\n",
       "      <th>414426</th>\n",
       "      <td>157EAA4C4A3C8D36</td>\n",
       "      <td>docked_bike</td>\n",
       "      <td>2020-03-16 11:23:36</td>\n",
       "      <td>2020-03-16 11:23:24</td>\n",
       "      <td>HQ QR</td>\n",
       "      <td>675</td>\n",
       "      <td>NaN</td>\n",
       "      <td>NaN</td>\n",
       "      <td>41.8899</td>\n",
       "      <td>-87.6803</td>\n",
       "      <td>NaN</td>\n",
       "      <td>NaN</td>\n",
       "      <td>casual</td>\n",
       "    </tr>\n",
       "  </tbody>\n",
       "</table>\n",
       "</div>"
      ],
      "text/plain": [
       "                 ride_id rideable_type           started_at  \\\n",
       "414426  157EAA4C4A3C8D36   docked_bike  2020-03-16 11:23:36   \n",
       "\n",
       "                   ended_at start_station_name  start_station_id  \\\n",
       "414426  2020-03-16 11:23:24              HQ QR               675   \n",
       "\n",
       "       end_station_name  end_station_id  start_lat  start_lng  end_lat  \\\n",
       "414426              NaN             NaN    41.8899   -87.6803      NaN   \n",
       "\n",
       "        end_lng member_casual  \n",
       "414426      NaN        casual  "
      ]
     },
     "execution_count": 6,
     "metadata": {},
     "output_type": "execute_result"
    }
   ],
   "source": [
    "# get the number of null values in the column end_station_name\n",
    "print('null values in the column end_station_name - ',dataset[\"end_station_name\"].isnull().sum())\n",
    "\n",
    "# get the number of null values in the column end_station_id\n",
    "print('null values in the column end_station_id - ',dataset[\"end_station_id\"].isnull().sum())\n",
    "\n",
    "# get the number of null values in the column end_lat\n",
    "print('number of null values in the column end_lat - ',dataset[\"end_lat\"].isnull().sum())\n",
    "\n",
    "# get the number of null values in the column end_lng\n",
    "print('number of null values in the column end_lng - ',dataset[\"end_lng\"].isnull().sum())\n",
    "\n",
    "# record that has the null values\n",
    "dataset[dataset[\"end_station_name\"].isnull()]"
   ]
  },
  {
   "cell_type": "markdown",
   "id": "48c42e8e",
   "metadata": {},
   "source": [
    "One record out of 426887 records has null values for end station variables. The best approach here is to remove the record since it is non-comparable with the total number of records."
   ]
  },
  {
   "cell_type": "code",
   "execution_count": 7,
   "id": "82838644",
   "metadata": {},
   "outputs": [
    {
     "name": "stdout",
     "output_type": "stream",
     "text": [
      "index of the record that has null values -  414426\n",
      "Shape of the dataset -  (426887, 13)\n",
      "Shape of the dataset removal of record -  (426886, 13)\n"
     ]
    }
   ],
   "source": [
    "# index of the record that has null values\n",
    "print('index of the record that has null values - ',dataset[dataset[\"end_station_name\"].isnull()].index[0])\n",
    "\n",
    "# Shape of the dataset\n",
    "print('Shape of the dataset - ',dataset.shape)\n",
    "\n",
    "# Delete the record containg null value\n",
    "dataset = dataset.drop(labels = 414426,axis = 0)\n",
    "\n",
    "# Shape of the dataset after removal of record\n",
    "print('Shape of the dataset removal of record - ',dataset.shape)"
   ]
  },
  {
   "cell_type": "code",
   "execution_count": 8,
   "id": "f69e8ad6",
   "metadata": {},
   "outputs": [
    {
     "data": {
      "text/plain": [
       "ride_id                object\n",
       "rideable_type          object\n",
       "started_at             object\n",
       "ended_at               object\n",
       "start_station_name     object\n",
       "start_station_id        int64\n",
       "end_station_name       object\n",
       "end_station_id        float64\n",
       "start_lat             float64\n",
       "start_lng             float64\n",
       "end_lat               float64\n",
       "end_lng               float64\n",
       "member_casual          object\n",
       "dtype: object"
      ]
     },
     "execution_count": 8,
     "metadata": {},
     "output_type": "execute_result"
    }
   ],
   "source": [
    "# Datatype of columns in DataFrame\n",
    "dataset.dtypes"
   ]
  },
  {
   "cell_type": "markdown",
   "id": "7a18d6ed",
   "metadata": {},
   "source": [
    "### Datatype check"
   ]
  },
  {
   "cell_type": "code",
   "execution_count": 9,
   "id": "16a26b5a",
   "metadata": {},
   "outputs": [],
   "source": [
    "# started_at and ended_at should be datatime format\n",
    "dataset[\"started_at\"] = dataset[\"started_at\"].astype(\"datetime64\")\n",
    "dataset[\"ended_at\"] = dataset[\"ended_at\"].astype(\"datetime64\")"
   ]
  },
  {
   "cell_type": "code",
   "execution_count": 10,
   "id": "41d0ca95",
   "metadata": {},
   "outputs": [
    {
     "data": {
      "text/plain": [
       "0         326.0\n",
       "1         318.0\n",
       "2         117.0\n",
       "3          24.0\n",
       "4         212.0\n",
       "          ...  \n",
       "426882    675.0\n",
       "426883    240.0\n",
       "426884    210.0\n",
       "426885    264.0\n",
       "426886     85.0\n",
       "Name: end_station_id, Length: 426886, dtype: float64"
      ]
     },
     "execution_count": 10,
     "metadata": {},
     "output_type": "execute_result"
    }
   ],
   "source": [
    "# end station id should be an int\n",
    "dataset[\"end_station_id\"] = dataset[\"end_station_id\"].apply(pd.to_numeric)\n",
    "\n",
    "# converting to numeric using apply(pd.to_numeric) didnt work\n",
    "# So we have to look for alternative options\n",
    "# View data in the column end_station_id\n",
    "dataset[\"end_station_id\"]"
   ]
  },
  {
   "cell_type": "code",
   "execution_count": 11,
   "id": "28f96d15",
   "metadata": {},
   "outputs": [],
   "source": [
    "# datatype of end station id is coming as decimal. But it should be int. we will do a bit of analysis on the column \n",
    "# to check if there are any anomalies in the column or we can convert it to int straight away.\n",
    "tempvar_end_station_id = dataset[\"end_station_id\"].astype(\"str\")\n",
    "tempvar_end_station_id\n",
    "\n",
    "# sum of all the decimal points are 0. Which means that there are no anomalies and we can convert the column to int.\n",
    "np.sum(tempvar_end_station_id.str.split(\".\").str[1].astype(\"int\"))\n",
    "\n",
    "# Convert float to int\n",
    "dataset[\"end_station_id\"] = dataset[\"end_station_id\"].astype(\"int\")"
   ]
  },
  {
   "cell_type": "code",
   "execution_count": 12,
   "id": "7517f6e0",
   "metadata": {},
   "outputs": [
    {
     "data": {
      "text/plain": [
       "ride_id                       object\n",
       "rideable_type                 object\n",
       "started_at            datetime64[ns]\n",
       "ended_at              datetime64[ns]\n",
       "start_station_name            object\n",
       "start_station_id               int64\n",
       "end_station_name              object\n",
       "end_station_id                 int32\n",
       "start_lat                    float64\n",
       "start_lng                    float64\n",
       "end_lat                      float64\n",
       "end_lng                      float64\n",
       "member_casual                 object\n",
       "dtype: object"
      ]
     },
     "execution_count": 12,
     "metadata": {},
     "output_type": "execute_result"
    }
   ],
   "source": [
    "dataset.dtypes"
   ]
  },
  {
   "cell_type": "code",
   "execution_count": 13,
   "id": "f0536edd",
   "metadata": {},
   "outputs": [
    {
     "name": "stdout",
     "output_type": "stream",
     "text": [
      "rideable_type -  docked_bike\n",
      "member_casual -  ['member' 'casual']\n"
     ]
    }
   ],
   "source": [
    "# distinct values present in the columns\n",
    "print('rideable_type - ',dataset[\"rideable_type\"].unique()[0])\n",
    "print('member_casual - ',dataset[\"member_casual\"].unique())"
   ]
  },
  {
   "cell_type": "markdown",
   "id": "94b40944",
   "metadata": {},
   "source": [
    "### Add calculated columns"
   ]
  },
  {
   "cell_type": "code",
   "execution_count": 14,
   "id": "7bf38746",
   "metadata": {},
   "outputs": [],
   "source": [
    "# create calculated columns for distance covered per ride and time taken for ride\n",
    "# distance covered\n",
    "def find_distance(lat1, lon1, lat2, lon2, to_radians=True, earth_radius=6371):\n",
    "    \n",
    "    if to_radians:\n",
    "        lat1, lon1, lat2, lon2 = np.radians([lat1, lon1, lat2, lon2])\n",
    "\n",
    "    a = np.sin((lat2-lat1)/2.0)**2 + np.cos(lat1) * np.cos(lat2) * np.sin((lon2-lon1)/2.0)**2\n",
    "\n",
    "    return earth_radius * 2 * np.arcsin(np.sqrt(a))\n",
    "\n",
    "\n",
    "dataset['distance_covered'] = find_distance(dataset.start_lat, dataset.start_lng,\n",
    "                 dataset.end_lat, dataset.end_lng)"
   ]
  },
  {
   "cell_type": "code",
   "execution_count": 15,
   "id": "072e09f3",
   "metadata": {},
   "outputs": [
    {
     "data": {
      "text/plain": [
       "0        0 days 00:07:31\n",
       "1        0 days 00:03:43\n",
       "2        0 days 00:02:51\n",
       "3        0 days 00:08:49\n",
       "4        0 days 00:05:32\n",
       "               ...      \n",
       "426882   0 days 00:00:01\n",
       "426883   0 days 00:48:08\n",
       "426884   0 days 00:25:51\n",
       "426885   0 days 00:10:33\n",
       "426886   0 days 00:28:30\n",
       "Name: time_taken, Length: 426886, dtype: timedelta64[ns]"
      ]
     },
     "execution_count": 15,
     "metadata": {},
     "output_type": "execute_result"
    }
   ],
   "source": [
    "# time taken for the ride\n",
    "dataset[\"time_taken\"] = dataset[\"ended_at\"] - dataset[\"started_at\"]\n",
    "dataset[\"time_taken\"]"
   ]
  },
  {
   "cell_type": "markdown",
   "id": "77a08279",
   "metadata": {},
   "source": [
    "# Exploratory Analysis and Viz"
   ]
  },
  {
   "cell_type": "code",
   "execution_count": 16,
   "id": "786f8c47",
   "metadata": {},
   "outputs": [
    {
     "data": {
      "text/html": [
       "<div>\n",
       "<style scoped>\n",
       "    .dataframe tbody tr th:only-of-type {\n",
       "        vertical-align: middle;\n",
       "    }\n",
       "\n",
       "    .dataframe tbody tr th {\n",
       "        vertical-align: top;\n",
       "    }\n",
       "\n",
       "    .dataframe thead th {\n",
       "        text-align: right;\n",
       "    }\n",
       "</style>\n",
       "<table border=\"1\" class=\"dataframe\">\n",
       "  <thead>\n",
       "    <tr style=\"text-align: right;\">\n",
       "      <th></th>\n",
       "      <th>ride_id</th>\n",
       "      <th>rideable_type</th>\n",
       "      <th>started_at</th>\n",
       "      <th>ended_at</th>\n",
       "      <th>start_station_name</th>\n",
       "      <th>start_station_id</th>\n",
       "      <th>end_station_name</th>\n",
       "      <th>end_station_id</th>\n",
       "      <th>start_lat</th>\n",
       "      <th>start_lng</th>\n",
       "      <th>end_lat</th>\n",
       "      <th>end_lng</th>\n",
       "      <th>member_casual</th>\n",
       "      <th>distance_covered</th>\n",
       "      <th>time_taken</th>\n",
       "    </tr>\n",
       "  </thead>\n",
       "  <tbody>\n",
       "    <tr>\n",
       "      <th>0</th>\n",
       "      <td>EACB19130B0CDA4A</td>\n",
       "      <td>docked_bike</td>\n",
       "      <td>2020-01-21 20:06:59</td>\n",
       "      <td>2020-01-21 20:14:30</td>\n",
       "      <td>Western Ave &amp; Leland Ave</td>\n",
       "      <td>239</td>\n",
       "      <td>Clark St &amp; Leland Ave</td>\n",
       "      <td>326</td>\n",
       "      <td>41.9665</td>\n",
       "      <td>-87.6884</td>\n",
       "      <td>41.9671</td>\n",
       "      <td>-87.6674</td>\n",
       "      <td>member</td>\n",
       "      <td>1.737499</td>\n",
       "      <td>0 days 00:07:31</td>\n",
       "    </tr>\n",
       "    <tr>\n",
       "      <th>1</th>\n",
       "      <td>8FED874C809DC021</td>\n",
       "      <td>docked_bike</td>\n",
       "      <td>2020-01-30 14:22:39</td>\n",
       "      <td>2020-01-30 14:26:22</td>\n",
       "      <td>Clark St &amp; Montrose Ave</td>\n",
       "      <td>234</td>\n",
       "      <td>Southport Ave &amp; Irving Park Rd</td>\n",
       "      <td>318</td>\n",
       "      <td>41.9616</td>\n",
       "      <td>-87.6660</td>\n",
       "      <td>41.9542</td>\n",
       "      <td>-87.6644</td>\n",
       "      <td>member</td>\n",
       "      <td>0.833411</td>\n",
       "      <td>0 days 00:03:43</td>\n",
       "    </tr>\n",
       "    <tr>\n",
       "      <th>2</th>\n",
       "      <td>789F3C21E472CA96</td>\n",
       "      <td>docked_bike</td>\n",
       "      <td>2020-01-09 19:29:26</td>\n",
       "      <td>2020-01-09 19:32:17</td>\n",
       "      <td>Broadway &amp; Belmont Ave</td>\n",
       "      <td>296</td>\n",
       "      <td>Wilton Ave &amp; Belmont Ave</td>\n",
       "      <td>117</td>\n",
       "      <td>41.9401</td>\n",
       "      <td>-87.6455</td>\n",
       "      <td>41.9402</td>\n",
       "      <td>-87.6530</td>\n",
       "      <td>member</td>\n",
       "      <td>0.620437</td>\n",
       "      <td>0 days 00:02:51</td>\n",
       "    </tr>\n",
       "    <tr>\n",
       "      <th>3</th>\n",
       "      <td>C9A388DAC6ABF313</td>\n",
       "      <td>docked_bike</td>\n",
       "      <td>2020-01-06 16:17:07</td>\n",
       "      <td>2020-01-06 16:25:56</td>\n",
       "      <td>Clark St &amp; Randolph St</td>\n",
       "      <td>51</td>\n",
       "      <td>Fairbanks Ct &amp; Grand Ave</td>\n",
       "      <td>24</td>\n",
       "      <td>41.8846</td>\n",
       "      <td>-87.6319</td>\n",
       "      <td>41.8918</td>\n",
       "      <td>-87.6206</td>\n",
       "      <td>member</td>\n",
       "      <td>1.231236</td>\n",
       "      <td>0 days 00:08:49</td>\n",
       "    </tr>\n",
       "    <tr>\n",
       "      <th>4</th>\n",
       "      <td>943BC3CBECCFD662</td>\n",
       "      <td>docked_bike</td>\n",
       "      <td>2020-01-30 08:37:16</td>\n",
       "      <td>2020-01-30 08:42:48</td>\n",
       "      <td>Clinton St &amp; Lake St</td>\n",
       "      <td>66</td>\n",
       "      <td>Wells St &amp; Hubbard St</td>\n",
       "      <td>212</td>\n",
       "      <td>41.8856</td>\n",
       "      <td>-87.6418</td>\n",
       "      <td>41.8899</td>\n",
       "      <td>-87.6343</td>\n",
       "      <td>member</td>\n",
       "      <td>0.783624</td>\n",
       "      <td>0 days 00:05:32</td>\n",
       "    </tr>\n",
       "  </tbody>\n",
       "</table>\n",
       "</div>"
      ],
      "text/plain": [
       "            ride_id rideable_type          started_at            ended_at  \\\n",
       "0  EACB19130B0CDA4A   docked_bike 2020-01-21 20:06:59 2020-01-21 20:14:30   \n",
       "1  8FED874C809DC021   docked_bike 2020-01-30 14:22:39 2020-01-30 14:26:22   \n",
       "2  789F3C21E472CA96   docked_bike 2020-01-09 19:29:26 2020-01-09 19:32:17   \n",
       "3  C9A388DAC6ABF313   docked_bike 2020-01-06 16:17:07 2020-01-06 16:25:56   \n",
       "4  943BC3CBECCFD662   docked_bike 2020-01-30 08:37:16 2020-01-30 08:42:48   \n",
       "\n",
       "         start_station_name  start_station_id                end_station_name  \\\n",
       "0  Western Ave & Leland Ave               239           Clark St & Leland Ave   \n",
       "1   Clark St & Montrose Ave               234  Southport Ave & Irving Park Rd   \n",
       "2    Broadway & Belmont Ave               296        Wilton Ave & Belmont Ave   \n",
       "3    Clark St & Randolph St                51        Fairbanks Ct & Grand Ave   \n",
       "4      Clinton St & Lake St                66           Wells St & Hubbard St   \n",
       "\n",
       "   end_station_id  start_lat  start_lng  end_lat  end_lng member_casual  \\\n",
       "0             326    41.9665   -87.6884  41.9671 -87.6674        member   \n",
       "1             318    41.9616   -87.6660  41.9542 -87.6644        member   \n",
       "2             117    41.9401   -87.6455  41.9402 -87.6530        member   \n",
       "3              24    41.8846   -87.6319  41.8918 -87.6206        member   \n",
       "4             212    41.8856   -87.6418  41.8899 -87.6343        member   \n",
       "\n",
       "   distance_covered      time_taken  \n",
       "0          1.737499 0 days 00:07:31  \n",
       "1          0.833411 0 days 00:03:43  \n",
       "2          0.620437 0 days 00:02:51  \n",
       "3          1.231236 0 days 00:08:49  \n",
       "4          0.783624 0 days 00:05:32  "
      ]
     },
     "execution_count": 16,
     "metadata": {},
     "output_type": "execute_result"
    }
   ],
   "source": [
    "dataset.head()"
   ]
  },
  {
   "cell_type": "markdown",
   "id": "75fd551c",
   "metadata": {},
   "source": [
    "### Total distance covered by the member and casual categories"
   ]
  },
  {
   "cell_type": "code",
   "execution_count": 17,
   "id": "cc526962",
   "metadata": {},
   "outputs": [
    {
     "data": {
      "text/html": [
       "<div>\n",
       "<style scoped>\n",
       "    .dataframe tbody tr th:only-of-type {\n",
       "        vertical-align: middle;\n",
       "    }\n",
       "\n",
       "    .dataframe tbody tr th {\n",
       "        vertical-align: top;\n",
       "    }\n",
       "\n",
       "    .dataframe thead th {\n",
       "        text-align: right;\n",
       "    }\n",
       "</style>\n",
       "<table border=\"1\" class=\"dataframe\">\n",
       "  <thead>\n",
       "    <tr style=\"text-align: right;\">\n",
       "      <th></th>\n",
       "      <th>distance_covered</th>\n",
       "    </tr>\n",
       "    <tr>\n",
       "      <th>member_casual</th>\n",
       "      <th></th>\n",
       "    </tr>\n",
       "  </thead>\n",
       "  <tbody>\n",
       "    <tr>\n",
       "      <th>casual</th>\n",
       "      <td>94381.172920</td>\n",
       "    </tr>\n",
       "    <tr>\n",
       "      <th>member</th>\n",
       "      <td>695449.369934</td>\n",
       "    </tr>\n",
       "  </tbody>\n",
       "</table>\n",
       "</div>"
      ],
      "text/plain": [
       "               distance_covered\n",
       "member_casual                  \n",
       "casual             94381.172920\n",
       "member            695449.369934"
      ]
     },
     "execution_count": 17,
     "metadata": {},
     "output_type": "execute_result"
    }
   ],
   "source": [
    "member_casual_distance_pivot = dataset.pivot_table(index = \"member_casual\", values = 'distance_covered', aggfunc = \"sum\")\n",
    "member_casual_distance_pivot"
   ]
  },
  {
   "cell_type": "code",
   "execution_count": 18,
   "id": "1edf4749",
   "metadata": {},
   "outputs": [
    {
     "data": {
      "text/plain": [
       "Text(0, 0.5, 'Distance Covered')"
      ]
     },
     "execution_count": 18,
     "metadata": {},
     "output_type": "execute_result"
    },
    {
     "data": {
      "image/png": "[encoded data removed]",
      "text/plain": [
       "<Figure size 432x288 with 1 Axes>"
      ]
     },
     "metadata": {
      "needs_background": "light"
     },
     "output_type": "display_data"
    }
   ],
   "source": [
    "# Visualize\n",
    "plot = member_casual_distance_pivot.plot(kind = \"bar\")\n",
    "plot.set_title('Total distance covered by the categories')\n",
    "plot.set_xlabel('Category')\n",
    "plot.set_ylabel('Distance Covered')"
   ]
  },
  {
   "cell_type": "markdown",
   "id": "0fc41a78",
   "metadata": {},
   "source": [
    "Total distance covered by member subscribers is more than seven times that of casual riders."
   ]
  },
  {
   "cell_type": "markdown",
   "id": "40cb090d",
   "metadata": {},
   "source": [
    "### Total ride duration by the member and casual categories"
   ]
  },
  {
   "cell_type": "code",
   "execution_count": 19,
   "id": "af3c87fe",
   "metadata": {},
   "outputs": [
    {
     "data": {
      "text/html": [
       "<div>\n",
       "<style scoped>\n",
       "    .dataframe tbody tr th:only-of-type {\n",
       "        vertical-align: middle;\n",
       "    }\n",
       "\n",
       "    .dataframe tbody tr th {\n",
       "        vertical-align: top;\n",
       "    }\n",
       "\n",
       "    .dataframe thead th {\n",
       "        text-align: right;\n",
       "    }\n",
       "</style>\n",
       "<table border=\"1\" class=\"dataframe\">\n",
       "  <thead>\n",
       "    <tr style=\"text-align: right;\">\n",
       "      <th></th>\n",
       "      <th>time_taken</th>\n",
       "    </tr>\n",
       "    <tr>\n",
       "      <th>member_casual</th>\n",
       "      <th></th>\n",
       "    </tr>\n",
       "  </thead>\n",
       "  <tbody>\n",
       "    <tr>\n",
       "      <th>casual</th>\n",
       "      <td>3224 days 16:22:47</td>\n",
       "    </tr>\n",
       "    <tr>\n",
       "      <th>member</th>\n",
       "      <td>3331 days 07:48:07</td>\n",
       "    </tr>\n",
       "  </tbody>\n",
       "</table>\n",
       "</div>"
      ],
      "text/plain": [
       "                      time_taken\n",
       "member_casual                   \n",
       "casual        3224 days 16:22:47\n",
       "member        3331 days 07:48:07"
      ]
     },
     "execution_count": 19,
     "metadata": {},
     "output_type": "execute_result"
    }
   ],
   "source": [
    "member_casual_time_pivot = dataset.pivot_table(index = \"member_casual\", values = 'time_taken', aggfunc = \"sum\")\n",
    "member_casual_time_pivot"
   ]
  },
  {
   "cell_type": "code",
   "execution_count": 20,
   "id": "e4c0c283",
   "metadata": {},
   "outputs": [
    {
     "data": {
      "text/plain": [
       "Text(0, 0.5, 'Total Duration')"
      ]
     },
     "execution_count": 20,
     "metadata": {},
     "output_type": "execute_result"
    },
    {
     "data": {
      "image/png": "[encoded data removed]",
      "text/plain": [
       "<Figure size 432x288 with 1 Axes>"
      ]
     },
     "metadata": {
      "needs_background": "light"
     },
     "output_type": "display_data"
    }
   ],
   "source": [
    "# Visualize\n",
    "plot = member_casual_time_pivot.astype('timedelta64[s]').plot(kind = \"bar\")\n",
    "plot.set_title('Total ride duration by the categories')\n",
    "plot.set_xlabel('Category')\n",
    "plot.set_ylabel('Total Duration')"
   ]
  },
  {
   "cell_type": "markdown",
   "id": "15903fd7",
   "metadata": {},
   "source": [
    "Total time spent by both categories are comparable."
   ]
  },
  {
   "cell_type": "markdown",
   "id": "345efc12",
   "metadata": {},
   "source": [
    "### Total number of rides by the member and casual categories"
   ]
  },
  {
   "cell_type": "code",
   "execution_count": 21,
   "id": "39edbab7",
   "metadata": {},
   "outputs": [
    {
     "data": {
      "text/html": [
       "<div>\n",
       "<style scoped>\n",
       "    .dataframe tbody tr th:only-of-type {\n",
       "        vertical-align: middle;\n",
       "    }\n",
       "\n",
       "    .dataframe tbody tr th {\n",
       "        vertical-align: top;\n",
       "    }\n",
       "\n",
       "    .dataframe thead th {\n",
       "        text-align: right;\n",
       "    }\n",
       "</style>\n",
       "<table border=\"1\" class=\"dataframe\">\n",
       "  <thead>\n",
       "    <tr style=\"text-align: right;\">\n",
       "      <th></th>\n",
       "      <th>ride_id</th>\n",
       "    </tr>\n",
       "    <tr>\n",
       "      <th>member_casual</th>\n",
       "      <th></th>\n",
       "    </tr>\n",
       "  </thead>\n",
       "  <tbody>\n",
       "    <tr>\n",
       "      <th>casual</th>\n",
       "      <td>48479</td>\n",
       "    </tr>\n",
       "    <tr>\n",
       "      <th>member</th>\n",
       "      <td>378407</td>\n",
       "    </tr>\n",
       "  </tbody>\n",
       "</table>\n",
       "</div>"
      ],
      "text/plain": [
       "               ride_id\n",
       "member_casual         \n",
       "casual           48479\n",
       "member          378407"
      ]
     },
     "execution_count": 21,
     "metadata": {},
     "output_type": "execute_result"
    }
   ],
   "source": [
    "member_casual_count_pivot = dataset.pivot_table(index = \"member_casual\", values = 'ride_id', aggfunc = \"count\")\n",
    "member_casual_count_pivot"
   ]
  },
  {
   "cell_type": "code",
   "execution_count": 22,
   "id": "edbb6793",
   "metadata": {},
   "outputs": [
    {
     "data": {
      "text/plain": [
       "Text(0, 0.5, 'Total rides')"
      ]
     },
     "execution_count": 22,
     "metadata": {},
     "output_type": "execute_result"
    },
    {
     "data": {
      "image/png": "[encoded data removed]",
      "text/plain": [
       "<Figure size 432x288 with 1 Axes>"
      ]
     },
     "metadata": {
      "needs_background": "light"
     },
     "output_type": "display_data"
    }
   ],
   "source": [
    "# Visualize\n",
    "plot = member_casual_count_pivot.plot(kind = \"bar\")\n",
    "plot.set_title('Total number of rides by category')\n",
    "plot.set_xlabel('Category')\n",
    "plot.set_ylabel('Total rides')"
   ]
  },
  {
   "cell_type": "markdown",
   "id": "603b8f17",
   "metadata": {},
   "source": [
    "member riders covered almost seven times the distance that of casual riders"
   ]
  },
  {
   "cell_type": "markdown",
   "id": "0f837a69",
   "metadata": {},
   "source": [
    "### Average distance covered by the member and casual categories"
   ]
  },
  {
   "cell_type": "code",
   "execution_count": 23,
   "id": "1dcce4e0",
   "metadata": {},
   "outputs": [
    {
     "data": {
      "text/html": [
       "<div>\n",
       "<style scoped>\n",
       "    .dataframe tbody tr th:only-of-type {\n",
       "        vertical-align: middle;\n",
       "    }\n",
       "\n",
       "    .dataframe tbody tr th {\n",
       "        vertical-align: top;\n",
       "    }\n",
       "\n",
       "    .dataframe thead th {\n",
       "        text-align: right;\n",
       "    }\n",
       "</style>\n",
       "<table border=\"1\" class=\"dataframe\">\n",
       "  <thead>\n",
       "    <tr style=\"text-align: right;\">\n",
       "      <th></th>\n",
       "      <th>distance_covered</th>\n",
       "    </tr>\n",
       "    <tr>\n",
       "      <th>member_casual</th>\n",
       "      <th></th>\n",
       "    </tr>\n",
       "  </thead>\n",
       "  <tbody>\n",
       "    <tr>\n",
       "      <th>casual</th>\n",
       "      <td>1.946847</td>\n",
       "    </tr>\n",
       "    <tr>\n",
       "      <th>member</th>\n",
       "      <td>1.837834</td>\n",
       "    </tr>\n",
       "  </tbody>\n",
       "</table>\n",
       "</div>"
      ],
      "text/plain": [
       "               distance_covered\n",
       "member_casual                  \n",
       "casual                 1.946847\n",
       "member                 1.837834"
      ]
     },
     "execution_count": 23,
     "metadata": {},
     "output_type": "execute_result"
    }
   ],
   "source": [
    "member_casual_average_distance_pivot = dataset.pivot_table(index = \"member_casual\", values = \"distance_covered\", aggfunc = \"mean\")\n",
    "member_casual_average_distance_pivot"
   ]
  },
  {
   "cell_type": "code",
   "execution_count": 24,
   "id": "72f37c6c",
   "metadata": {},
   "outputs": [
    {
     "data": {
      "text/plain": [
       "Text(0, 0.5, 'Distance Covered')"
      ]
     },
     "execution_count": 24,
     "metadata": {},
     "output_type": "execute_result"
    },
    {
     "data": {
      "image/png": "[encoded data removed]",
      "text/plain": [
       "<Figure size 432x288 with 1 Axes>"
      ]
     },
     "metadata": {
      "needs_background": "light"
     },
     "output_type": "display_data"
    }
   ],
   "source": [
    "# Visualize\n",
    "plot = member_casual_average_distance_pivot.plot(kind = \"bar\")\n",
    "plot.set_title('Average distance covered by category')\n",
    "plot.set_xlabel('Category')\n",
    "plot.set_ylabel('Distance Covered')"
   ]
  },
  {
   "cell_type": "markdown",
   "id": "cc8d59a8",
   "metadata": {},
   "source": [
    "Average distance covered by both casual riders and member riders are comparable"
   ]
  },
  {
   "cell_type": "markdown",
   "id": "d66e52c5",
   "metadata": {},
   "source": [
    "### Average time spent by the member and casual categories"
   ]
  },
  {
   "cell_type": "code",
   "execution_count": 25,
   "id": "b9bbbf10",
   "metadata": {},
   "outputs": [
    {
     "data": {
      "text/html": [
       "<div>\n",
       "<style scoped>\n",
       "    .dataframe tbody tr th:only-of-type {\n",
       "        vertical-align: middle;\n",
       "    }\n",
       "\n",
       "    .dataframe tbody tr th {\n",
       "        vertical-align: top;\n",
       "    }\n",
       "\n",
       "    .dataframe thead th {\n",
       "        text-align: right;\n",
       "    }\n",
       "</style>\n",
       "<table border=\"1\" class=\"dataframe\">\n",
       "  <thead>\n",
       "    <tr style=\"text-align: right;\">\n",
       "      <th></th>\n",
       "      <th>time_taken</th>\n",
       "    </tr>\n",
       "    <tr>\n",
       "      <th>member_casual</th>\n",
       "      <th></th>\n",
       "    </tr>\n",
       "  </thead>\n",
       "  <tbody>\n",
       "    <tr>\n",
       "      <th>casual</th>\n",
       "      <td>0 days 01:35:47.077435590</td>\n",
       "    </tr>\n",
       "    <tr>\n",
       "      <th>member</th>\n",
       "      <td>0 days 00:12:40.626751090</td>\n",
       "    </tr>\n",
       "  </tbody>\n",
       "</table>\n",
       "</div>"
      ],
      "text/plain": [
       "                             time_taken\n",
       "member_casual                          \n",
       "casual        0 days 01:35:47.077435590\n",
       "member        0 days 00:12:40.626751090"
      ]
     },
     "execution_count": 25,
     "metadata": {},
     "output_type": "execute_result"
    }
   ],
   "source": [
    "member_casual_average_distance_pivot = dataset.pivot_table(index = \"member_casual\", values = \"time_taken\", aggfunc = \"mean\")\n",
    "member_casual_average_distance_pivot"
   ]
  },
  {
   "cell_type": "code",
   "execution_count": 26,
   "id": "6cd2000b",
   "metadata": {},
   "outputs": [
    {
     "data": {
      "text/plain": [
       "Text(0, 0.5, 'Average time (Mins)')"
      ]
     },
     "execution_count": 26,
     "metadata": {},
     "output_type": "execute_result"
    },
    {
     "data": {
      "image/png": "[encoded data removed]",
      "text/plain": [
       "<Figure size 432x288 with 1 Axes>"
      ]
     },
     "metadata": {
      "needs_background": "light"
     },
     "output_type": "display_data"
    }
   ],
   "source": [
    "# Visualize\n",
    "plot = member_casual_average_distance_pivot.astype('timedelta64[s]').plot(kind = \"bar\")\n",
    "plot.set_title('Average time spent by the member and casual categories')\n",
    "plot.set_xlabel('Category')\n",
    "plot.set_ylabel('Average time (Mins)')"
   ]
  },
  {
   "cell_type": "markdown",
   "id": "d931ce22",
   "metadata": {},
   "source": [
    "It is clear from the exploratory analysis that casual users and member users use the service differently."
   ]
  },
  {
   "cell_type": "markdown",
   "id": "c6927f20",
   "metadata": {},
   "source": [
    "Even though the average and sum of ride length are comparable for two categories, casual riders use the service for long duration rides whereas member users use the service for short duration rides more efficiently."
   ]
  },
  {
   "cell_type": "markdown",
   "id": "4ad611c8",
   "metadata": {},
   "source": [
    "### Additional metrics"
   ]
  },
  {
   "cell_type": "code",
   "execution_count": 27,
   "id": "c9dd9f33",
   "metadata": {},
   "outputs": [],
   "source": [
    "## How the number of rides per month changed over time\n",
    "dataset_day_rides_pivot = dataset.pivot_table(index = dataset.started_at.astype('datetime64[D]'), values = \"member_casual\", aggfunc = \"count\")"
   ]
  },
  {
   "cell_type": "code",
   "execution_count": 28,
   "id": "3ecd9f7d",
   "metadata": {},
   "outputs": [
    {
     "data": {
      "text/plain": [
       "[]"
      ]
     },
     "execution_count": 28,
     "metadata": {},
     "output_type": "execute_result"
    },
    {
     "data": {
      "image/png": "[encoded data removed]",
      "text/plain": [
       "<Figure size 432x288 with 1 Axes>"
      ]
     },
     "metadata": {
      "needs_background": "light"
     },
     "output_type": "display_data"
    }
   ],
   "source": [
    "plot = dataset_day_rides_pivot.plot(kind = 'bar')\n",
    "plot.set_title('How the number of rides per month changed over time')\n",
    "plot.set_xlabel('Time')\n",
    "plot.set_ylabel('Ride count')\n",
    "plot.set_xticks([])"
   ]
  },
  {
   "cell_type": "code",
   "execution_count": 29,
   "id": "15bbd0e1",
   "metadata": {},
   "outputs": [],
   "source": [
    "## Number of rides per month\n",
    "dataset_month_rides_pivot = dataset.pivot_table(index = dataset.started_at.astype('datetime64[M]'), values = \"member_casual\", aggfunc = \"count\")"
   ]
  },
  {
   "cell_type": "code",
   "execution_count": 30,
   "id": "6fc01767",
   "metadata": {},
   "outputs": [
    {
     "data": {
      "text/plain": [
       "[Text(0, 0, 'Jan'), Text(1, 0, 'Feb'), Text(2, 0, 'Mar')]"
      ]
     },
     "execution_count": 30,
     "metadata": {},
     "output_type": "execute_result"
    },
    {
     "data": {
      "image/png": "[encoded data removed]",
      "text/plain": [
       "<Figure size 432x288 with 1 Axes>"
      ]
     },
     "metadata": {
      "needs_background": "light"
     },
     "output_type": "display_data"
    }
   ],
   "source": [
    "plot = dataset_month_rides_pivot.plot(kind = 'bar')\n",
    "plot.set_title('Number of rides per month')\n",
    "plot.set_xlabel('Month')\n",
    "plot.set_ylabel('Ride count')\n",
    "plot.set_xticklabels(['Jan','Feb','Mar'])"
   ]
  },
  {
   "cell_type": "code",
   "execution_count": 31,
   "id": "05d0172c",
   "metadata": {},
   "outputs": [],
   "source": [
    "## Total duration of rides per month\n",
    "dataset_month_duration_pivot = dataset.pivot_table(index = dataset.started_at.astype('datetime64[M]'), values = \"time_taken\", aggfunc = \"sum\")"
   ]
  },
  {
   "cell_type": "code",
   "execution_count": 32,
   "id": "4c010da9",
   "metadata": {},
   "outputs": [
    {
     "data": {
      "text/plain": [
       "[Text(0, 0, 'Jan'), Text(1, 0, 'Feb'), Text(2, 0, 'Mar')]"
      ]
     },
     "execution_count": 32,
     "metadata": {},
     "output_type": "execute_result"
    },
    {
     "data": {
      "image/png": "[encoded data removed]",
      "text/plain": [
       "<Figure size 432x288 with 1 Axes>"
      ]
     },
     "metadata": {
      "needs_background": "light"
     },
     "output_type": "display_data"
    }
   ],
   "source": [
    "plot = dataset_month_duration_pivot.astype('timedelta64[s]').plot(kind='bar')\n",
    "plot.set_title('Total duration of rides per month')\n",
    "plot.set_xlabel('Month')\n",
    "plot.set_ylabel('Ride duration')\n",
    "plot.set_xticklabels(['Jan','Feb','Mar'])"
   ]
  },
  {
   "cell_type": "code",
   "execution_count": 33,
   "id": "c3a79980",
   "metadata": {},
   "outputs": [],
   "source": [
    "## Number of rides per day of week\n",
    "dataset_dayofweek_rides_pivot = dataset.pivot_table(index = (dataset.started_at.astype('datetime64[D]').view('int64') -4) %7, values = \"member_casual\", aggfunc = \"count\")"
   ]
  },
  {
   "cell_type": "code",
   "execution_count": 34,
   "id": "58526905",
   "metadata": {},
   "outputs": [
    {
     "data": {
      "text/plain": [
       "[Text(0, 0, 'Mon'),\n",
       " Text(1, 0, 'Tue'),\n",
       " Text(2, 0, 'Wed'),\n",
       " Text(3, 0, 'Thu'),\n",
       " Text(4, 0, 'Fri'),\n",
       " Text(5, 0, 'Sat'),\n",
       " Text(6, 0, 'Sun')]"
      ]
     },
     "execution_count": 34,
     "metadata": {},
     "output_type": "execute_result"
    },
    {
     "data": {
      "image/png": "[encoded data removed]",
      "text/plain": [
       "<Figure size 432x288 with 1 Axes>"
      ]
     },
     "metadata": {
      "needs_background": "light"
     },
     "output_type": "display_data"
    }
   ],
   "source": [
    "plot = dataset_dayofweek_rides_pivot.plot(kind = \"bar\")\n",
    "plot.set_title('Number of rides per day of week')\n",
    "plot.set_xlabel('Day')\n",
    "plot.set_ylabel('Ride count')\n",
    "plot.set_xticklabels(['Mon','Tue','Wed','Thu','Fri','Sat','Sun'])"
   ]
  },
  {
   "cell_type": "markdown",
   "id": "92eee1f7",
   "metadata": {},
   "source": [
    "# Predictive Analytics"
   ]
  },
  {
   "cell_type": "code",
   "execution_count": 35,
   "id": "f25eb737",
   "metadata": {},
   "outputs": [
    {
     "data": {
      "text/html": [
       "<div>\n",
       "<style scoped>\n",
       "    .dataframe tbody tr th:only-of-type {\n",
       "        vertical-align: middle;\n",
       "    }\n",
       "\n",
       "    .dataframe tbody tr th {\n",
       "        vertical-align: top;\n",
       "    }\n",
       "\n",
       "    .dataframe thead th {\n",
       "        text-align: right;\n",
       "    }\n",
       "</style>\n",
       "<table border=\"1\" class=\"dataframe\">\n",
       "  <thead>\n",
       "    <tr style=\"text-align: right;\">\n",
       "      <th></th>\n",
       "      <th>ride_id</th>\n",
       "      <th>rideable_type</th>\n",
       "      <th>started_at</th>\n",
       "      <th>ended_at</th>\n",
       "      <th>start_station_name</th>\n",
       "      <th>start_station_id</th>\n",
       "      <th>end_station_name</th>\n",
       "      <th>end_station_id</th>\n",
       "      <th>start_lat</th>\n",
       "      <th>start_lng</th>\n",
       "      <th>end_lat</th>\n",
       "      <th>end_lng</th>\n",
       "      <th>member_casual</th>\n",
       "      <th>distance_covered</th>\n",
       "      <th>time_taken</th>\n",
       "    </tr>\n",
       "  </thead>\n",
       "  <tbody>\n",
       "    <tr>\n",
       "      <th>0</th>\n",
       "      <td>EACB19130B0CDA4A</td>\n",
       "      <td>docked_bike</td>\n",
       "      <td>2020-01-21 20:06:59</td>\n",
       "      <td>2020-01-21 20:14:30</td>\n",
       "      <td>Western Ave &amp; Leland Ave</td>\n",
       "      <td>239</td>\n",
       "      <td>Clark St &amp; Leland Ave</td>\n",
       "      <td>326</td>\n",
       "      <td>41.9665</td>\n",
       "      <td>-87.6884</td>\n",
       "      <td>41.9671</td>\n",
       "      <td>-87.6674</td>\n",
       "      <td>member</td>\n",
       "      <td>1.737499</td>\n",
       "      <td>0 days 00:07:31</td>\n",
       "    </tr>\n",
       "    <tr>\n",
       "      <th>1</th>\n",
       "      <td>8FED874C809DC021</td>\n",
       "      <td>docked_bike</td>\n",
       "      <td>2020-01-30 14:22:39</td>\n",
       "      <td>2020-01-30 14:26:22</td>\n",
       "      <td>Clark St &amp; Montrose Ave</td>\n",
       "      <td>234</td>\n",
       "      <td>Southport Ave &amp; Irving Park Rd</td>\n",
       "      <td>318</td>\n",
       "      <td>41.9616</td>\n",
       "      <td>-87.6660</td>\n",
       "      <td>41.9542</td>\n",
       "      <td>-87.6644</td>\n",
       "      <td>member</td>\n",
       "      <td>0.833411</td>\n",
       "      <td>0 days 00:03:43</td>\n",
       "    </tr>\n",
       "    <tr>\n",
       "      <th>2</th>\n",
       "      <td>789F3C21E472CA96</td>\n",
       "      <td>docked_bike</td>\n",
       "      <td>2020-01-09 19:29:26</td>\n",
       "      <td>2020-01-09 19:32:17</td>\n",
       "      <td>Broadway &amp; Belmont Ave</td>\n",
       "      <td>296</td>\n",
       "      <td>Wilton Ave &amp; Belmont Ave</td>\n",
       "      <td>117</td>\n",
       "      <td>41.9401</td>\n",
       "      <td>-87.6455</td>\n",
       "      <td>41.9402</td>\n",
       "      <td>-87.6530</td>\n",
       "      <td>member</td>\n",
       "      <td>0.620437</td>\n",
       "      <td>0 days 00:02:51</td>\n",
       "    </tr>\n",
       "    <tr>\n",
       "      <th>3</th>\n",
       "      <td>C9A388DAC6ABF313</td>\n",
       "      <td>docked_bike</td>\n",
       "      <td>2020-01-06 16:17:07</td>\n",
       "      <td>2020-01-06 16:25:56</td>\n",
       "      <td>Clark St &amp; Randolph St</td>\n",
       "      <td>51</td>\n",
       "      <td>Fairbanks Ct &amp; Grand Ave</td>\n",
       "      <td>24</td>\n",
       "      <td>41.8846</td>\n",
       "      <td>-87.6319</td>\n",
       "      <td>41.8918</td>\n",
       "      <td>-87.6206</td>\n",
       "      <td>member</td>\n",
       "      <td>1.231236</td>\n",
       "      <td>0 days 00:08:49</td>\n",
       "    </tr>\n",
       "    <tr>\n",
       "      <th>4</th>\n",
       "      <td>943BC3CBECCFD662</td>\n",
       "      <td>docked_bike</td>\n",
       "      <td>2020-01-30 08:37:16</td>\n",
       "      <td>2020-01-30 08:42:48</td>\n",
       "      <td>Clinton St &amp; Lake St</td>\n",
       "      <td>66</td>\n",
       "      <td>Wells St &amp; Hubbard St</td>\n",
       "      <td>212</td>\n",
       "      <td>41.8856</td>\n",
       "      <td>-87.6418</td>\n",
       "      <td>41.8899</td>\n",
       "      <td>-87.6343</td>\n",
       "      <td>member</td>\n",
       "      <td>0.783624</td>\n",
       "      <td>0 days 00:05:32</td>\n",
       "    </tr>\n",
       "  </tbody>\n",
       "</table>\n",
       "</div>"
      ],
      "text/plain": [
       "            ride_id rideable_type          started_at            ended_at  \\\n",
       "0  EACB19130B0CDA4A   docked_bike 2020-01-21 20:06:59 2020-01-21 20:14:30   \n",
       "1  8FED874C809DC021   docked_bike 2020-01-30 14:22:39 2020-01-30 14:26:22   \n",
       "2  789F3C21E472CA96   docked_bike 2020-01-09 19:29:26 2020-01-09 19:32:17   \n",
       "3  C9A388DAC6ABF313   docked_bike 2020-01-06 16:17:07 2020-01-06 16:25:56   \n",
       "4  943BC3CBECCFD662   docked_bike 2020-01-30 08:37:16 2020-01-30 08:42:48   \n",
       "\n",
       "         start_station_name  start_station_id                end_station_name  \\\n",
       "0  Western Ave & Leland Ave               239           Clark St & Leland Ave   \n",
       "1   Clark St & Montrose Ave               234  Southport Ave & Irving Park Rd   \n",
       "2    Broadway & Belmont Ave               296        Wilton Ave & Belmont Ave   \n",
       "3    Clark St & Randolph St                51        Fairbanks Ct & Grand Ave   \n",
       "4      Clinton St & Lake St                66           Wells St & Hubbard St   \n",
       "\n",
       "   end_station_id  start_lat  start_lng  end_lat  end_lng member_casual  \\\n",
       "0             326    41.9665   -87.6884  41.9671 -87.6674        member   \n",
       "1             318    41.9616   -87.6660  41.9542 -87.6644        member   \n",
       "2             117    41.9401   -87.6455  41.9402 -87.6530        member   \n",
       "3              24    41.8846   -87.6319  41.8918 -87.6206        member   \n",
       "4             212    41.8856   -87.6418  41.8899 -87.6343        member   \n",
       "\n",
       "   distance_covered      time_taken  \n",
       "0          1.737499 0 days 00:07:31  \n",
       "1          0.833411 0 days 00:03:43  \n",
       "2          0.620437 0 days 00:02:51  \n",
       "3          1.231236 0 days 00:08:49  \n",
       "4          0.783624 0 days 00:05:32  "
      ]
     },
     "execution_count": 35,
     "metadata": {},
     "output_type": "execute_result"
    }
   ],
   "source": [
    "dataset.head()"
   ]
  },
  {
   "cell_type": "markdown",
   "id": "8242de00",
   "metadata": {},
   "source": [
    "### Feature Engineering"
   ]
  },
  {
   "cell_type": "code",
   "execution_count": 36,
   "id": "190ea7de",
   "metadata": {},
   "outputs": [
    {
     "data": {
      "text/plain": [
       "array(['docked_bike'], dtype=object)"
      ]
     },
     "execution_count": 36,
     "metadata": {},
     "output_type": "execute_result"
    }
   ],
   "source": [
    "##### ride_id - \n",
    "# It is a column which is used to uniquely identify a ride. Hence we can remove the feature for modelling.\n",
    "\n",
    "##### rideable_type - \n",
    "dataset[\"rideable_type\"].unique()\n",
    "# has the same value for all rides - docked_bike. Hence we can remove the feature for modelling.\n",
    "\n",
    "##### start_station_name and end_station_name -\n",
    "# The same information is contained in the IDs. Hence we can remove the feature for modelling.\n",
    "\n",
    "#### start_station_id and end_station_id -\n",
    "# Think about it. Does Start and End station IDs or Names add any more information? Or is it already available in \n",
    "# start_lat, start_lng, end_lat, end_lng data? From a human perspective, it adds more information. But from a \n",
    "# Model's perspective, these features are redundent. Since the same information is already present in the coordinates.\n",
    "\n",
    "##### distance_covered and time_taken -\n",
    "# This information is contained in the other variables already. Hence we can remove the feature for modelling."
   ]
  },
  {
   "cell_type": "code",
   "execution_count": 37,
   "id": "de06ff4e",
   "metadata": {
    "scrolled": true
   },
   "outputs": [
    {
     "data": {
      "text/html": [
       "<div>\n",
       "<style scoped>\n",
       "    .dataframe tbody tr th:only-of-type {\n",
       "        vertical-align: middle;\n",
       "    }\n",
       "\n",
       "    .dataframe tbody tr th {\n",
       "        vertical-align: top;\n",
       "    }\n",
       "\n",
       "    .dataframe thead th {\n",
       "        text-align: right;\n",
       "    }\n",
       "</style>\n",
       "<table border=\"1\" class=\"dataframe\">\n",
       "  <thead>\n",
       "    <tr style=\"text-align: right;\">\n",
       "      <th></th>\n",
       "      <th>started_at</th>\n",
       "      <th>ended_at</th>\n",
       "      <th>start_lat</th>\n",
       "      <th>start_lng</th>\n",
       "      <th>end_lat</th>\n",
       "      <th>end_lng</th>\n",
       "      <th>member_casual</th>\n",
       "    </tr>\n",
       "  </thead>\n",
       "  <tbody>\n",
       "    <tr>\n",
       "      <th>0</th>\n",
       "      <td>2020-01-21 20:06:59</td>\n",
       "      <td>2020-01-21 20:14:30</td>\n",
       "      <td>41.9665</td>\n",
       "      <td>-87.6884</td>\n",
       "      <td>41.9671</td>\n",
       "      <td>-87.6674</td>\n",
       "      <td>member</td>\n",
       "    </tr>\n",
       "    <tr>\n",
       "      <th>1</th>\n",
       "      <td>2020-01-30 14:22:39</td>\n",
       "      <td>2020-01-30 14:26:22</td>\n",
       "      <td>41.9616</td>\n",
       "      <td>-87.6660</td>\n",
       "      <td>41.9542</td>\n",
       "      <td>-87.6644</td>\n",
       "      <td>member</td>\n",
       "    </tr>\n",
       "    <tr>\n",
       "      <th>2</th>\n",
       "      <td>2020-01-09 19:29:26</td>\n",
       "      <td>2020-01-09 19:32:17</td>\n",
       "      <td>41.9401</td>\n",
       "      <td>-87.6455</td>\n",
       "      <td>41.9402</td>\n",
       "      <td>-87.6530</td>\n",
       "      <td>member</td>\n",
       "    </tr>\n",
       "    <tr>\n",
       "      <th>3</th>\n",
       "      <td>2020-01-06 16:17:07</td>\n",
       "      <td>2020-01-06 16:25:56</td>\n",
       "      <td>41.8846</td>\n",
       "      <td>-87.6319</td>\n",
       "      <td>41.8918</td>\n",
       "      <td>-87.6206</td>\n",
       "      <td>member</td>\n",
       "    </tr>\n",
       "    <tr>\n",
       "      <th>4</th>\n",
       "      <td>2020-01-30 08:37:16</td>\n",
       "      <td>2020-01-30 08:42:48</td>\n",
       "      <td>41.8856</td>\n",
       "      <td>-87.6418</td>\n",
       "      <td>41.8899</td>\n",
       "      <td>-87.6343</td>\n",
       "      <td>member</td>\n",
       "    </tr>\n",
       "  </tbody>\n",
       "</table>\n",
       "</div>"
      ],
      "text/plain": [
       "           started_at            ended_at  start_lat  start_lng  end_lat  \\\n",
       "0 2020-01-21 20:06:59 2020-01-21 20:14:30    41.9665   -87.6884  41.9671   \n",
       "1 2020-01-30 14:22:39 2020-01-30 14:26:22    41.9616   -87.6660  41.9542   \n",
       "2 2020-01-09 19:29:26 2020-01-09 19:32:17    41.9401   -87.6455  41.9402   \n",
       "3 2020-01-06 16:17:07 2020-01-06 16:25:56    41.8846   -87.6319  41.8918   \n",
       "4 2020-01-30 08:37:16 2020-01-30 08:42:48    41.8856   -87.6418  41.8899   \n",
       "\n",
       "   end_lng member_casual  \n",
       "0 -87.6674        member  \n",
       "1 -87.6644        member  \n",
       "2 -87.6530        member  \n",
       "3 -87.6206        member  \n",
       "4 -87.6343        member  "
      ]
     },
     "execution_count": 37,
     "metadata": {},
     "output_type": "execute_result"
    }
   ],
   "source": [
    "rides = dataset.iloc[:,[2,3,8,9,10,11,12]]\n",
    "rides.head()"
   ]
  },
  {
   "cell_type": "markdown",
   "id": "32eedc85",
   "metadata": {},
   "source": [
    "Will we be able to predict if a customer is member or casual from dates and location data? From the exploratory analysis, we have seen that both categories use the service differently, which means that we can predict but how accurately we can predict is something we have to see."
   ]
  },
  {
   "cell_type": "markdown",
   "id": "ddf1b089",
   "metadata": {},
   "source": [
    "### Preprocessing"
   ]
  },
  {
   "cell_type": "code",
   "execution_count": 38,
   "id": "6692cedb",
   "metadata": {},
   "outputs": [
    {
     "name": "stderr",
     "output_type": "stream",
     "text": [
      "C:\\Users\\hp\\anaconda3\\envs\\tf\\lib\\site-packages\\pandas\\core\\indexing.py:1773: SettingWithCopyWarning: \n",
      "A value is trying to be set on a copy of a slice from a DataFrame.\n",
      "Try using .loc[row_indexer,col_indexer] = value instead\n",
      "\n",
      "See the caveats in the documentation: https://pandas.pydata.org/pandas-docs/stable/user_guide/indexing.html#returning-a-view-versus-a-copy\n",
      "  self._setitem_single_column(ilocs[0], value, pi)\n"
     ]
    },
    {
     "data": {
      "text/html": [
       "<div>\n",
       "<style scoped>\n",
       "    .dataframe tbody tr th:only-of-type {\n",
       "        vertical-align: middle;\n",
       "    }\n",
       "\n",
       "    .dataframe tbody tr th {\n",
       "        vertical-align: top;\n",
       "    }\n",
       "\n",
       "    .dataframe thead th {\n",
       "        text-align: right;\n",
       "    }\n",
       "</style>\n",
       "<table border=\"1\" class=\"dataframe\">\n",
       "  <thead>\n",
       "    <tr style=\"text-align: right;\">\n",
       "      <th></th>\n",
       "      <th>started_at</th>\n",
       "      <th>ended_at</th>\n",
       "      <th>start_lat</th>\n",
       "      <th>start_lng</th>\n",
       "      <th>end_lat</th>\n",
       "      <th>end_lng</th>\n",
       "      <th>member_casual</th>\n",
       "    </tr>\n",
       "  </thead>\n",
       "  <tbody>\n",
       "    <tr>\n",
       "      <th>0</th>\n",
       "      <td>2020-01-21 20:06:59</td>\n",
       "      <td>2020-01-21 20:14:30</td>\n",
       "      <td>41.9665</td>\n",
       "      <td>-87.6884</td>\n",
       "      <td>41.9671</td>\n",
       "      <td>-87.6674</td>\n",
       "      <td>1</td>\n",
       "    </tr>\n",
       "    <tr>\n",
       "      <th>1</th>\n",
       "      <td>2020-01-30 14:22:39</td>\n",
       "      <td>2020-01-30 14:26:22</td>\n",
       "      <td>41.9616</td>\n",
       "      <td>-87.6660</td>\n",
       "      <td>41.9542</td>\n",
       "      <td>-87.6644</td>\n",
       "      <td>1</td>\n",
       "    </tr>\n",
       "    <tr>\n",
       "      <th>2</th>\n",
       "      <td>2020-01-09 19:29:26</td>\n",
       "      <td>2020-01-09 19:32:17</td>\n",
       "      <td>41.9401</td>\n",
       "      <td>-87.6455</td>\n",
       "      <td>41.9402</td>\n",
       "      <td>-87.6530</td>\n",
       "      <td>1</td>\n",
       "    </tr>\n",
       "    <tr>\n",
       "      <th>3</th>\n",
       "      <td>2020-01-06 16:17:07</td>\n",
       "      <td>2020-01-06 16:25:56</td>\n",
       "      <td>41.8846</td>\n",
       "      <td>-87.6319</td>\n",
       "      <td>41.8918</td>\n",
       "      <td>-87.6206</td>\n",
       "      <td>1</td>\n",
       "    </tr>\n",
       "    <tr>\n",
       "      <th>4</th>\n",
       "      <td>2020-01-30 08:37:16</td>\n",
       "      <td>2020-01-30 08:42:48</td>\n",
       "      <td>41.8856</td>\n",
       "      <td>-87.6418</td>\n",
       "      <td>41.8899</td>\n",
       "      <td>-87.6343</td>\n",
       "      <td>1</td>\n",
       "    </tr>\n",
       "  </tbody>\n",
       "</table>\n",
       "</div>"
      ],
      "text/plain": [
       "           started_at            ended_at  start_lat  start_lng  end_lat  \\\n",
       "0 2020-01-21 20:06:59 2020-01-21 20:14:30    41.9665   -87.6884  41.9671   \n",
       "1 2020-01-30 14:22:39 2020-01-30 14:26:22    41.9616   -87.6660  41.9542   \n",
       "2 2020-01-09 19:29:26 2020-01-09 19:32:17    41.9401   -87.6455  41.9402   \n",
       "3 2020-01-06 16:17:07 2020-01-06 16:25:56    41.8846   -87.6319  41.8918   \n",
       "4 2020-01-30 08:37:16 2020-01-30 08:42:48    41.8856   -87.6418  41.8899   \n",
       "\n",
       "   end_lng  member_casual  \n",
       "0 -87.6674              1  \n",
       "1 -87.6644              1  \n",
       "2 -87.6530              1  \n",
       "3 -87.6206              1  \n",
       "4 -87.6343              1  "
      ]
     },
     "execution_count": 38,
     "metadata": {},
     "output_type": "execute_result"
    }
   ],
   "source": [
    "# Encoding the dependent variable - member_casual\n",
    "# casual = 0, member = 1\n",
    "rides.loc[:,('member_casual')] = (rides.loc[:,('member_casual')] == 'member').astype('int')\n",
    "rides.head()"
   ]
  },
  {
   "cell_type": "code",
   "execution_count": 39,
   "id": "a0f58f9c",
   "metadata": {},
   "outputs": [
    {
     "name": "stderr",
     "output_type": "stream",
     "text": [
      "C:\\Users\\hp\\anaconda3\\envs\\tf\\lib\\site-packages\\ipykernel_launcher.py:1: SettingWithCopyWarning: \n",
      "A value is trying to be set on a copy of a slice from a DataFrame.\n",
      "Try using .loc[row_indexer,col_indexer] = value instead\n",
      "\n",
      "See the caveats in the documentation: https://pandas.pydata.org/pandas-docs/stable/user_guide/indexing.html#returning-a-view-versus-a-copy\n",
      "  \"\"\"Entry point for launching an IPython kernel.\n",
      "C:\\Users\\hp\\anaconda3\\envs\\tf\\lib\\site-packages\\ipykernel_launcher.py:2: SettingWithCopyWarning: \n",
      "A value is trying to be set on a copy of a slice from a DataFrame.\n",
      "Try using .loc[row_indexer,col_indexer] = value instead\n",
      "\n",
      "See the caveats in the documentation: https://pandas.pydata.org/pandas-docs/stable/user_guide/indexing.html#returning-a-view-versus-a-copy\n",
      "  \n",
      "C:\\Users\\hp\\anaconda3\\envs\\tf\\lib\\site-packages\\ipykernel_launcher.py:3: SettingWithCopyWarning: \n",
      "A value is trying to be set on a copy of a slice from a DataFrame.\n",
      "Try using .loc[row_indexer,col_indexer] = value instead\n",
      "\n",
      "See the caveats in the documentation: https://pandas.pydata.org/pandas-docs/stable/user_guide/indexing.html#returning-a-view-versus-a-copy\n",
      "  This is separate from the ipykernel package so we can avoid doing imports until\n",
      "C:\\Users\\hp\\anaconda3\\envs\\tf\\lib\\site-packages\\ipykernel_launcher.py:4: SettingWithCopyWarning: \n",
      "A value is trying to be set on a copy of a slice from a DataFrame.\n",
      "Try using .loc[row_indexer,col_indexer] = value instead\n",
      "\n",
      "See the caveats in the documentation: https://pandas.pydata.org/pandas-docs/stable/user_guide/indexing.html#returning-a-view-versus-a-copy\n",
      "  after removing the cwd from sys.path.\n"
     ]
    }
   ],
   "source": [
    "rides['started_at_month'] = rides['started_at'].dt.month\n",
    "rides['started_at_day'] = rides['started_at'].dt.day\n",
    "rides['started_at_hour'] = rides['started_at'].dt.hour\n",
    "rides['started_at_minute'] = rides['started_at'].dt.minute\n"
   ]
  },
  {
   "cell_type": "code",
   "execution_count": 40,
   "id": "4cace917",
   "metadata": {},
   "outputs": [
    {
     "name": "stderr",
     "output_type": "stream",
     "text": [
      "C:\\Users\\hp\\anaconda3\\envs\\tf\\lib\\site-packages\\ipykernel_launcher.py:1: SettingWithCopyWarning: \n",
      "A value is trying to be set on a copy of a slice from a DataFrame.\n",
      "Try using .loc[row_indexer,col_indexer] = value instead\n",
      "\n",
      "See the caveats in the documentation: https://pandas.pydata.org/pandas-docs/stable/user_guide/indexing.html#returning-a-view-versus-a-copy\n",
      "  \"\"\"Entry point for launching an IPython kernel.\n",
      "C:\\Users\\hp\\anaconda3\\envs\\tf\\lib\\site-packages\\ipykernel_launcher.py:2: SettingWithCopyWarning: \n",
      "A value is trying to be set on a copy of a slice from a DataFrame.\n",
      "Try using .loc[row_indexer,col_indexer] = value instead\n",
      "\n",
      "See the caveats in the documentation: https://pandas.pydata.org/pandas-docs/stable/user_guide/indexing.html#returning-a-view-versus-a-copy\n",
      "  \n",
      "C:\\Users\\hp\\anaconda3\\envs\\tf\\lib\\site-packages\\ipykernel_launcher.py:3: SettingWithCopyWarning: \n",
      "A value is trying to be set on a copy of a slice from a DataFrame.\n",
      "Try using .loc[row_indexer,col_indexer] = value instead\n",
      "\n",
      "See the caveats in the documentation: https://pandas.pydata.org/pandas-docs/stable/user_guide/indexing.html#returning-a-view-versus-a-copy\n",
      "  This is separate from the ipykernel package so we can avoid doing imports until\n"
     ]
    }
   ],
   "source": [
    "rides['ended_at_month'] = rides['ended_at'].dt.month\n",
    "rides['ended_at_day'] = rides['ended_at'].dt.day\n",
    "rides['ended_at_hour'] = rides['ended_at'].dt.hour\n",
    "rides['ended_at_minute'] = rides['ended_at'].dt.minute"
   ]
  },
  {
   "cell_type": "code",
   "execution_count": 41,
   "id": "5f7d5327",
   "metadata": {},
   "outputs": [
    {
     "data": {
      "text/html": [
       "<div>\n",
       "<style scoped>\n",
       "    .dataframe tbody tr th:only-of-type {\n",
       "        vertical-align: middle;\n",
       "    }\n",
       "\n",
       "    .dataframe tbody tr th {\n",
       "        vertical-align: top;\n",
       "    }\n",
       "\n",
       "    .dataframe thead th {\n",
       "        text-align: right;\n",
       "    }\n",
       "</style>\n",
       "<table border=\"1\" class=\"dataframe\">\n",
       "  <thead>\n",
       "    <tr style=\"text-align: right;\">\n",
       "      <th></th>\n",
       "      <th>start_lat</th>\n",
       "      <th>start_lng</th>\n",
       "      <th>end_lat</th>\n",
       "      <th>end_lng</th>\n",
       "      <th>started_at_month</th>\n",
       "      <th>started_at_day</th>\n",
       "      <th>started_at_hour</th>\n",
       "      <th>started_at_minute</th>\n",
       "      <th>ended_at_month</th>\n",
       "      <th>ended_at_day</th>\n",
       "      <th>ended_at_hour</th>\n",
       "      <th>ended_at_minute</th>\n",
       "      <th>member_casual</th>\n",
       "    </tr>\n",
       "  </thead>\n",
       "  <tbody>\n",
       "    <tr>\n",
       "      <th>0</th>\n",
       "      <td>41.9665</td>\n",
       "      <td>-87.6884</td>\n",
       "      <td>41.9671</td>\n",
       "      <td>-87.6674</td>\n",
       "      <td>1</td>\n",
       "      <td>21</td>\n",
       "      <td>20</td>\n",
       "      <td>6</td>\n",
       "      <td>1</td>\n",
       "      <td>21</td>\n",
       "      <td>20</td>\n",
       "      <td>14</td>\n",
       "      <td>1</td>\n",
       "    </tr>\n",
       "    <tr>\n",
       "      <th>1</th>\n",
       "      <td>41.9616</td>\n",
       "      <td>-87.6660</td>\n",
       "      <td>41.9542</td>\n",
       "      <td>-87.6644</td>\n",
       "      <td>1</td>\n",
       "      <td>30</td>\n",
       "      <td>14</td>\n",
       "      <td>22</td>\n",
       "      <td>1</td>\n",
       "      <td>30</td>\n",
       "      <td>14</td>\n",
       "      <td>26</td>\n",
       "      <td>1</td>\n",
       "    </tr>\n",
       "    <tr>\n",
       "      <th>2</th>\n",
       "      <td>41.9401</td>\n",
       "      <td>-87.6455</td>\n",
       "      <td>41.9402</td>\n",
       "      <td>-87.6530</td>\n",
       "      <td>1</td>\n",
       "      <td>9</td>\n",
       "      <td>19</td>\n",
       "      <td>29</td>\n",
       "      <td>1</td>\n",
       "      <td>9</td>\n",
       "      <td>19</td>\n",
       "      <td>32</td>\n",
       "      <td>1</td>\n",
       "    </tr>\n",
       "    <tr>\n",
       "      <th>3</th>\n",
       "      <td>41.8846</td>\n",
       "      <td>-87.6319</td>\n",
       "      <td>41.8918</td>\n",
       "      <td>-87.6206</td>\n",
       "      <td>1</td>\n",
       "      <td>6</td>\n",
       "      <td>16</td>\n",
       "      <td>17</td>\n",
       "      <td>1</td>\n",
       "      <td>6</td>\n",
       "      <td>16</td>\n",
       "      <td>25</td>\n",
       "      <td>1</td>\n",
       "    </tr>\n",
       "    <tr>\n",
       "      <th>4</th>\n",
       "      <td>41.8856</td>\n",
       "      <td>-87.6418</td>\n",
       "      <td>41.8899</td>\n",
       "      <td>-87.6343</td>\n",
       "      <td>1</td>\n",
       "      <td>30</td>\n",
       "      <td>8</td>\n",
       "      <td>37</td>\n",
       "      <td>1</td>\n",
       "      <td>30</td>\n",
       "      <td>8</td>\n",
       "      <td>42</td>\n",
       "      <td>1</td>\n",
       "    </tr>\n",
       "  </tbody>\n",
       "</table>\n",
       "</div>"
      ],
      "text/plain": [
       "   start_lat  start_lng  end_lat  end_lng  started_at_month  started_at_day  \\\n",
       "0    41.9665   -87.6884  41.9671 -87.6674                 1              21   \n",
       "1    41.9616   -87.6660  41.9542 -87.6644                 1              30   \n",
       "2    41.9401   -87.6455  41.9402 -87.6530                 1               9   \n",
       "3    41.8846   -87.6319  41.8918 -87.6206                 1               6   \n",
       "4    41.8856   -87.6418  41.8899 -87.6343                 1              30   \n",
       "\n",
       "   started_at_hour  started_at_minute  ended_at_month  ended_at_day  \\\n",
       "0               20                  6               1            21   \n",
       "1               14                 22               1            30   \n",
       "2               19                 29               1             9   \n",
       "3               16                 17               1             6   \n",
       "4                8                 37               1            30   \n",
       "\n",
       "   ended_at_hour  ended_at_minute  member_casual  \n",
       "0             20               14              1  \n",
       "1             14               26              1  \n",
       "2             19               32              1  \n",
       "3             16               25              1  \n",
       "4              8               42              1  "
      ]
     },
     "execution_count": 41,
     "metadata": {},
     "output_type": "execute_result"
    }
   ],
   "source": [
    "rides = rides.loc[:,('start_lat','start_lng','end_lat','end_lng','started_at_month','started_at_day','started_at_hour','started_at_minute','ended_at_month','ended_at_day','ended_at_hour','ended_at_minute','member_casual')]\n",
    "rides.head()"
   ]
  },
  {
   "cell_type": "code",
   "execution_count": 42,
   "id": "878bbb5d",
   "metadata": {},
   "outputs": [],
   "source": [
    "#dividing the dataset into independent and dependent variables\n",
    "x = rides.iloc[:,:-1].values\n",
    "y = rides.iloc[:,-1].values"
   ]
  },
  {
   "cell_type": "code",
   "execution_count": 43,
   "id": "183fe0c3",
   "metadata": {},
   "outputs": [
    {
     "name": "stdout",
     "output_type": "stream",
     "text": [
      "records classified as 0 -  48479\n",
      "records classified as 1 -  378407\n"
     ]
    }
   ],
   "source": [
    "# Balance the dataset for modelling and prediction\n",
    "print('records classified as 0 - ',(y == 0).sum())\n",
    "print('records classified as 1 - ',(y == 1).sum())"
   ]
  },
  {
   "cell_type": "code",
   "execution_count": 44,
   "id": "19e7785c",
   "metadata": {},
   "outputs": [],
   "source": [
    "#import imblearn\n",
    "from imblearn.under_sampling import RandomUnderSampler\n",
    "rus = RandomUnderSampler(random_state = 42,replacement = True)\n",
    "x_rus, y_rus = rus.fit_resample(x, y)"
   ]
  },
  {
   "cell_type": "code",
   "execution_count": 45,
   "id": "ec8287ef",
   "metadata": {},
   "outputs": [
    {
     "name": "stdout",
     "output_type": "stream",
     "text": [
      "records classified as 0 after balancing -  48479\n",
      "records classified as 1 after balancing -  48479\n"
     ]
    }
   ],
   "source": [
    "print('records classified as 0 after balancing - ',(y_rus == 0).sum())\n",
    "print('records classified as 1 after balancing - ',(y_rus == 1).sum())"
   ]
  },
  {
   "cell_type": "code",
   "execution_count": 46,
   "id": "410d7d32",
   "metadata": {},
   "outputs": [
    {
     "name": "stdout",
     "output_type": "stream",
     "text": [
      "x_train -  (77566, 12)\n",
      "x_test -  (19392, 12)\n",
      "y_train -  (77566,)\n",
      "y_test -  (19392,)\n"
     ]
    }
   ],
   "source": [
    "# splitting the dataset into training and test datasets\n",
    "from sklearn.model_selection import train_test_split\n",
    "x_train,x_test,y_train,y_test = train_test_split(x_rus,y_rus,test_size = 0.2,random_state = 0)\n",
    "\n",
    "print('x_train - ',x_train.shape)\n",
    "print('x_test - ',x_test.shape)\n",
    "print('y_train - ',y_train.shape)\n",
    "print('y_test - ',y_test.shape)"
   ]
  },
  {
   "cell_type": "code",
   "execution_count": 47,
   "id": "ba1b1198",
   "metadata": {},
   "outputs": [],
   "source": [
    "# feature selection\n",
    "# information gain using mutual_info_classif\n",
    "from sklearn.feature_selection import mutual_info_classif\n",
    "import matplotlib.pyplot as plt\n",
    "\n",
    "importances = mutual_info_classif(x,y)"
   ]
  },
  {
   "cell_type": "code",
   "execution_count": 48,
   "id": "c4a59055",
   "metadata": {},
   "outputs": [
    {
     "data": {
      "text/plain": [
       "<AxesSubplot:>"
      ]
     },
     "execution_count": 48,
     "metadata": {},
     "output_type": "execute_result"
    },
    {
     "data": {
      "image/png": "[encoded data removed]",
      "text/plain": [
       "<Figure size 432x288 with 1 Axes>"
      ]
     },
     "metadata": {
      "needs_background": "light"
     },
     "output_type": "display_data"
    }
   ],
   "source": [
    "importances1 = pd.Series(importances,rides.columns[0:len(rides.columns)-1])\n",
    "importances1.plot(kind = 'barh')"
   ]
  },
  {
   "cell_type": "markdown",
   "id": "6fa43aa7",
   "metadata": {},
   "source": [
    "# Model"
   ]
  },
  {
   "cell_type": "markdown",
   "id": "8c44e53c",
   "metadata": {},
   "source": [
    "### Logistic Regression"
   ]
  },
  {
   "cell_type": "code",
   "execution_count": 49,
   "id": "0a015232",
   "metadata": {},
   "outputs": [
    {
     "data": {
      "text/plain": [
       "LogisticRegression(random_state=42)"
      ]
     },
     "execution_count": 49,
     "metadata": {},
     "output_type": "execute_result"
    }
   ],
   "source": [
    "# Training the model\n",
    "from sklearn.linear_model import LogisticRegression\n",
    "classifier = LogisticRegression(random_state = 42)\n",
    "classifier.fit(x_train,y_train)"
   ]
  },
  {
   "cell_type": "code",
   "execution_count": 50,
   "id": "0008d3b3",
   "metadata": {},
   "outputs": [],
   "source": [
    "# Predicting the test results\n",
    "y_pred = classifier.predict(x_test)"
   ]
  },
  {
   "cell_type": "code",
   "execution_count": 51,
   "id": "3834d125",
   "metadata": {},
   "outputs": [
    {
     "name": "stdout",
     "output_type": "stream",
     "text": [
      "[[6213 3475]\n",
      " [3721 5983]]\n",
      "0.6289191419141914\n"
     ]
    }
   ],
   "source": [
    "# Measuring the accuracy\n",
    "from sklearn.metrics import confusion_matrix, accuracy_score\n",
    "cm = confusion_matrix(y_test,y_pred)\n",
    "print(cm)\n",
    "ac = accuracy_score(y_test,y_pred)\n",
    "print(ac)"
   ]
  },
  {
   "cell_type": "markdown",
   "id": "e69fcb45",
   "metadata": {},
   "source": [
    "### KNN Classification"
   ]
  },
  {
   "cell_type": "code",
   "execution_count": 52,
   "id": "1e49b192",
   "metadata": {},
   "outputs": [
    {
     "data": {
      "text/plain": [
       "KNeighborsClassifier()"
      ]
     },
     "execution_count": 52,
     "metadata": {},
     "output_type": "execute_result"
    }
   ],
   "source": [
    "from sklearn.neighbors import KNeighborsClassifier\n",
    "classifier = KNeighborsClassifier(n_neighbors = 5,metric = 'minkowski',p=2)\n",
    "classifier.fit(x_train,y_train)"
   ]
  },
  {
   "cell_type": "code",
   "execution_count": 53,
   "id": "b5206dfa",
   "metadata": {},
   "outputs": [],
   "source": [
    "# Predicting the test results\n",
    "y_pred = classifier.predict(x_test)"
   ]
  },
  {
   "cell_type": "code",
   "execution_count": 54,
   "id": "57417077",
   "metadata": {},
   "outputs": [
    {
     "name": "stdout",
     "output_type": "stream",
     "text": [
      "[[7107 2581]\n",
      " [2293 7411]]\n",
      "0.7486592409240924\n"
     ]
    }
   ],
   "source": [
    "# Measuring the accuracy\n",
    "from sklearn.metrics import confusion_matrix, accuracy_score\n",
    "cm = confusion_matrix(y_test,y_pred)\n",
    "print(cm)\n",
    "ac = accuracy_score(y_test,y_pred)\n",
    "print(ac)"
   ]
  },
  {
   "cell_type": "markdown",
   "id": "f2120437",
   "metadata": {},
   "source": [
    "### SVM Classification"
   ]
  },
  {
   "cell_type": "code",
   "execution_count": 55,
   "id": "d451c605",
   "metadata": {},
   "outputs": [
    {
     "data": {
      "text/plain": [
       "SVC(random_state=42)"
      ]
     },
     "execution_count": 55,
     "metadata": {},
     "output_type": "execute_result"
    }
   ],
   "source": [
    "from sklearn.svm import SVC\n",
    "classifier = SVC(kernel = 'rbf',random_state = 42)\n",
    "classifier.fit(x_train,y_train)"
   ]
  },
  {
   "cell_type": "code",
   "execution_count": 56,
   "id": "0f8c380f",
   "metadata": {},
   "outputs": [],
   "source": [
    "# Predicting the test results\n",
    "y_pred = classifier.predict(x_test)"
   ]
  },
  {
   "cell_type": "code",
   "execution_count": 57,
   "id": "53f5c303",
   "metadata": {},
   "outputs": [
    {
     "name": "stdout",
     "output_type": "stream",
     "text": [
      "[[6859 2829]\n",
      " [3559 6145]]\n",
      "0.670585808580858\n"
     ]
    }
   ],
   "source": [
    "# Measuring the accuracy\n",
    "from sklearn.metrics import confusion_matrix, accuracy_score\n",
    "cm = confusion_matrix(y_test,y_pred)\n",
    "print(cm)\n",
    "ac = accuracy_score(y_test,y_pred)\n",
    "print(ac)"
   ]
  },
  {
   "cell_type": "markdown",
   "id": "90310663",
   "metadata": {},
   "source": [
    "### Decision Tree Classifier"
   ]
  },
  {
   "cell_type": "code",
   "execution_count": 58,
   "id": "00f00633",
   "metadata": {},
   "outputs": [
    {
     "data": {
      "text/plain": [
       "DecisionTreeClassifier(criterion='entropy', random_state=42)"
      ]
     },
     "execution_count": 58,
     "metadata": {},
     "output_type": "execute_result"
    }
   ],
   "source": [
    "from sklearn.tree import DecisionTreeClassifier\n",
    "classifier = DecisionTreeClassifier(criterion = 'entropy',random_state = 42)\n",
    "classifier.fit(x_train,y_train)"
   ]
  },
  {
   "cell_type": "code",
   "execution_count": 59,
   "id": "5964f6c1",
   "metadata": {},
   "outputs": [],
   "source": [
    "# Predicting the test results\n",
    "y_pred = classifier.predict(x_test)"
   ]
  },
  {
   "cell_type": "code",
   "execution_count": 60,
   "id": "e524f393",
   "metadata": {},
   "outputs": [
    {
     "name": "stdout",
     "output_type": "stream",
     "text": [
      "[[7393 2295]\n",
      " [2487 7217]]\n",
      "0.7534034653465347\n"
     ]
    }
   ],
   "source": [
    "# Measuring the accuracy\n",
    "from sklearn.metrics import confusion_matrix, accuracy_score\n",
    "cm = confusion_matrix(y_test,y_pred)\n",
    "print(cm)\n",
    "ac = accuracy_score(y_test,y_pred)\n",
    "print(ac)"
   ]
  },
  {
   "cell_type": "markdown",
   "id": "f5b79629",
   "metadata": {},
   "source": [
    "### Random Forest Classification"
   ]
  },
  {
   "cell_type": "code",
   "execution_count": 61,
   "id": "765b66ad",
   "metadata": {},
   "outputs": [
    {
     "data": {
      "text/plain": [
       "RandomForestClassifier(criterion='entropy', n_estimators=10, random_state=42)"
      ]
     },
     "execution_count": 61,
     "metadata": {},
     "output_type": "execute_result"
    }
   ],
   "source": [
    "from sklearn.ensemble import RandomForestClassifier\n",
    "classifier = RandomForestClassifier(n_estimators = 10,criterion = 'entropy',random_state = 42)\n",
    "classifier.fit(x_train,y_train)"
   ]
  },
  {
   "cell_type": "code",
   "execution_count": 62,
   "id": "d8c7a509",
   "metadata": {},
   "outputs": [],
   "source": [
    "# Predicting the test results\n",
    "y_pred = classifier.predict(x_test)"
   ]
  },
  {
   "cell_type": "code",
   "execution_count": 63,
   "id": "1deebb40",
   "metadata": {},
   "outputs": [
    {
     "name": "stdout",
     "output_type": "stream",
     "text": [
      "[[7753 1935]\n",
      " [2187 7517]]\n",
      "0.7874381188118812\n"
     ]
    }
   ],
   "source": [
    "# Measuring the accuracy\n",
    "from sklearn.metrics import confusion_matrix, accuracy_score\n",
    "cm = confusion_matrix(y_test,y_pred)\n",
    "print(cm)\n",
    "ac = accuracy_score(y_test,y_pred)\n",
    "print(ac)"
   ]
  },
  {
   "cell_type": "markdown",
   "id": "a544ea1d",
   "metadata": {},
   "source": [
    "### Model Accuracy:\n",
    "##### Logistic Regression : 62.8%\n",
    "##### KNN Classification : 74.8%\n",
    "##### SVM Classification : 67%\n",
    "##### Decision Tree Classifier : 75.3%\n",
    "##### Random Forest Classification : 78.7%\n",
    "\n",
    "Model is able to classify the riders with good enough accuracy, which suggests that casual riders and member riders might be using the service differently. \n",
    "From exploratory data analysis, we came to know that casual riders use the service for long duration rides whereas member users use the service for short duration rides more efficiently."
   ]
  }
 ],
 "metadata": {
  "kernelspec": {
   "display_name": "Python (tf)",
   "language": "python",
   "name": "tf"
  },
  "language_info": {
   "codemirror_mode": {
    "name": "ipython",
    "version": 3
   },
   "file_extension": ".py",
   "mimetype": "text/x-python",
   "name": "python",
   "nbconvert_exporter": "python",
   "pygments_lexer": "ipython3",
   "version": "3.7.11"
  }
 },
 "nbformat": 4,
 "nbformat_minor": 5
}
